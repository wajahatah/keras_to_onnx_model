{
  "nbformat": 4,
  "nbformat_minor": 0,
  "metadata": {
    "colab": {
      "provenance": []
    },
    "kernelspec": {
      "name": "python3",
      "display_name": "Python 3"
    },
    "language_info": {
      "name": "python"
    }
  },
  "cells": [
    {
      "cell_type": "code",
      "execution_count": null,
      "metadata": {
        "id": "1OBilsDWLvj6"
      },
      "outputs": [],
      "source": [
        "!pip install onnx"
      ]
    },
    {
      "cell_type": "code",
      "source": [
        "!pip install tensorflow"
      ],
      "metadata": {
        "id": "agPf2wo-MVKk"
      },
      "execution_count": null,
      "outputs": []
    },
    {
      "cell_type": "code",
      "source": [
        "!pip install tf2onnx"
      ],
      "metadata": {
        "id": "D0YcGQsvNEiL"
      },
      "execution_count": null,
      "outputs": []
    },
    {
      "cell_type": "code",
      "source": [
        "import os\n",
        "os.environ[\"TF_USE_LEGACY_KERAS\"] = \"1\""
      ],
      "metadata": {
        "id": "qajBvjASwv5r"
      },
      "execution_count": null,
      "outputs": []
    },
    {
      "cell_type": "code",
      "source": [
        "import onnx\n",
        "# import os\n",
        "import tensorflow as tf\n",
        "from tensorflow.keras.models import load_model\n",
        "import tf2onnx"
      ],
      "metadata": {
        "id": "E_vunNkqLzvu"
      },
      "execution_count": null,
      "outputs": []
    },
    {
      "cell_type": "code",
      "source": [
        "loaded_keras_model = load_model(\"/content/drive/MyDrive/Colab Notebooks/best_model_3_grayscale_128.h5\")\n"
      ],
      "metadata": {
        "id": "kQ4oNkkvN1fP"
      },
      "execution_count": null,
      "outputs": []
    },
    {
      "cell_type": "code",
      "source": [
        "# onnx_model, _ = tf2onnx.convert.from_keras(loaded_keras_model)\n",
        "# model = tf.keras.Sequential()\n",
        "loaded_keras_model.output_names=['output']\n",
        "# onnx_model, _ = tf2onnx.convert.from_keras(model, loaded_keras_model, opset=13)\n",
        "onnx_model, _ = tf2onnx.convert.from_keras(loaded_keras_model)"
      ],
      "metadata": {
        "id": "Ha2zPu2vMf1B"
      },
      "execution_count": null,
      "outputs": []
    },
    {
      "cell_type": "code",
      "source": [
        "onnx.save(onnx_model, \"/content/drive/MyDrive/Colab Notebooks/best_model_3_grayscale_128.onnx\")"
      ],
      "metadata": {
        "id": "BkqCBJRtOB_U"
      },
      "execution_count": null,
      "outputs": []
    },
    {
      "cell_type": "code",
      "source": [],
      "metadata": {
        "id": "tZ0BM-JXsMzc"
      },
      "execution_count": null,
      "outputs": []
    }
  ]
}